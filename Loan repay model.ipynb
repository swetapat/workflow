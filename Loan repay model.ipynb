{
 "cells": [
  {
   "cell_type": "markdown",
   "metadata": {},
   "source": [
    "#### We have a list of lenders with their details and we are trying to predict if they will be able to pay off their loans or not\n",
    "##### Following is the dataset:\n",
    "\n",
    "- Loan_id : A unique loan (ID) assigned to each loan customers\n",
    "- Loan_status : Whether a loan is paid off, not yet paid or paid off after the collection efforts\n",
    "- Principal : The loan amount for each customer\n",
    "- Terms : Schedule(time period to repay)\n",
    "- Effective_date : Loan start date\n",
    "- Due_date : When loan should be paid off\n",
    "- Paidoff_time : Actual time when loan was paid off , null means yet to be paid\n",
    "- Past_due_days : How many times(days) a loan has past its due date\n",
    "- Age : Age of customer\n",
    "- Education : Education level of customer applied for loan\n",
    "- Gender : Male/Female"
   ]
  },
  {
   "cell_type": "code",
   "execution_count": 1,
   "metadata": {},
   "outputs": [],
   "source": [
    "import pandas as pd\n",
    "import numpy as np"
   ]
  },
  {
   "cell_type": "code",
   "execution_count": 2,
   "metadata": {},
   "outputs": [],
   "source": [
    "data = pd.read_csv('../Loan payments data.csv')"
   ]
  },
  {
   "cell_type": "code",
   "execution_count": 3,
   "metadata": {},
   "outputs": [
    {
     "data": {
      "text/html": [
       "<div>\n",
       "<style scoped>\n",
       "    .dataframe tbody tr th:only-of-type {\n",
       "        vertical-align: middle;\n",
       "    }\n",
       "\n",
       "    .dataframe tbody tr th {\n",
       "        vertical-align: top;\n",
       "    }\n",
       "\n",
       "    .dataframe thead th {\n",
       "        text-align: right;\n",
       "    }\n",
       "</style>\n",
       "<table border=\"1\" class=\"dataframe\">\n",
       "  <thead>\n",
       "    <tr style=\"text-align: right;\">\n",
       "      <th></th>\n",
       "      <th>Loan_ID</th>\n",
       "      <th>loan_status</th>\n",
       "      <th>Principal</th>\n",
       "      <th>terms</th>\n",
       "      <th>effective_date</th>\n",
       "      <th>due_date</th>\n",
       "      <th>paid_off_time</th>\n",
       "      <th>past_due_days</th>\n",
       "      <th>age</th>\n",
       "      <th>education</th>\n",
       "      <th>Gender</th>\n",
       "    </tr>\n",
       "  </thead>\n",
       "  <tbody>\n",
       "    <tr>\n",
       "      <th>0</th>\n",
       "      <td>xqd20166231</td>\n",
       "      <td>PAIDOFF</td>\n",
       "      <td>1000</td>\n",
       "      <td>30</td>\n",
       "      <td>9/8/2016</td>\n",
       "      <td>10/7/2016</td>\n",
       "      <td>9/14/2016 19:31</td>\n",
       "      <td>NaN</td>\n",
       "      <td>45</td>\n",
       "      <td>High School or Below</td>\n",
       "      <td>male</td>\n",
       "    </tr>\n",
       "    <tr>\n",
       "      <th>1</th>\n",
       "      <td>xqd20168902</td>\n",
       "      <td>PAIDOFF</td>\n",
       "      <td>1000</td>\n",
       "      <td>30</td>\n",
       "      <td>9/8/2016</td>\n",
       "      <td>10/7/2016</td>\n",
       "      <td>10/7/2016 9:00</td>\n",
       "      <td>NaN</td>\n",
       "      <td>50</td>\n",
       "      <td>Bechalor</td>\n",
       "      <td>female</td>\n",
       "    </tr>\n",
       "    <tr>\n",
       "      <th>2</th>\n",
       "      <td>xqd20160003</td>\n",
       "      <td>PAIDOFF</td>\n",
       "      <td>1000</td>\n",
       "      <td>30</td>\n",
       "      <td>9/8/2016</td>\n",
       "      <td>10/7/2016</td>\n",
       "      <td>9/25/2016 16:58</td>\n",
       "      <td>NaN</td>\n",
       "      <td>33</td>\n",
       "      <td>Bechalor</td>\n",
       "      <td>female</td>\n",
       "    </tr>\n",
       "    <tr>\n",
       "      <th>3</th>\n",
       "      <td>xqd20160004</td>\n",
       "      <td>PAIDOFF</td>\n",
       "      <td>1000</td>\n",
       "      <td>15</td>\n",
       "      <td>9/8/2016</td>\n",
       "      <td>9/22/2016</td>\n",
       "      <td>9/22/2016 20:00</td>\n",
       "      <td>NaN</td>\n",
       "      <td>27</td>\n",
       "      <td>college</td>\n",
       "      <td>male</td>\n",
       "    </tr>\n",
       "    <tr>\n",
       "      <th>4</th>\n",
       "      <td>xqd20160005</td>\n",
       "      <td>PAIDOFF</td>\n",
       "      <td>1000</td>\n",
       "      <td>30</td>\n",
       "      <td>9/9/2016</td>\n",
       "      <td>10/8/2016</td>\n",
       "      <td>9/23/2016 21:36</td>\n",
       "      <td>NaN</td>\n",
       "      <td>28</td>\n",
       "      <td>college</td>\n",
       "      <td>female</td>\n",
       "    </tr>\n",
       "  </tbody>\n",
       "</table>\n",
       "</div>"
      ],
      "text/plain": [
       "       Loan_ID loan_status  Principal  terms effective_date   due_date  \\\n",
       "0  xqd20166231     PAIDOFF       1000     30       9/8/2016  10/7/2016   \n",
       "1  xqd20168902     PAIDOFF       1000     30       9/8/2016  10/7/2016   \n",
       "2  xqd20160003     PAIDOFF       1000     30       9/8/2016  10/7/2016   \n",
       "3  xqd20160004     PAIDOFF       1000     15       9/8/2016  9/22/2016   \n",
       "4  xqd20160005     PAIDOFF       1000     30       9/9/2016  10/8/2016   \n",
       "\n",
       "     paid_off_time  past_due_days  age             education  Gender  \n",
       "0  9/14/2016 19:31            NaN   45  High School or Below    male  \n",
       "1   10/7/2016 9:00            NaN   50              Bechalor  female  \n",
       "2  9/25/2016 16:58            NaN   33              Bechalor  female  \n",
       "3  9/22/2016 20:00            NaN   27               college    male  \n",
       "4  9/23/2016 21:36            NaN   28               college  female  "
      ]
     },
     "execution_count": 3,
     "metadata": {},
     "output_type": "execute_result"
    }
   ],
   "source": [
    "data.head()"
   ]
  },
  {
   "cell_type": "code",
   "execution_count": 4,
   "metadata": {},
   "outputs": [
    {
     "name": "stdout",
     "output_type": "stream",
     "text": [
      "<class 'pandas.core.frame.DataFrame'>\n",
      "RangeIndex: 500 entries, 0 to 499\n",
      "Data columns (total 11 columns):\n",
      "Loan_ID           500 non-null object\n",
      "loan_status       500 non-null object\n",
      "Principal         500 non-null int64\n",
      "terms             500 non-null int64\n",
      "effective_date    500 non-null object\n",
      "due_date          500 non-null object\n",
      "paid_off_time     400 non-null object\n",
      "past_due_days     200 non-null float64\n",
      "age               500 non-null int64\n",
      "education         500 non-null object\n",
      "Gender            500 non-null object\n",
      "dtypes: float64(1), int64(3), object(7)\n",
      "memory usage: 43.0+ KB\n"
     ]
    }
   ],
   "source": [
    "data.info()"
   ]
  },
  {
   "cell_type": "code",
   "execution_count": 5,
   "metadata": {},
   "outputs": [],
   "source": [
    "import seaborn as sns"
   ]
  },
  {
   "cell_type": "code",
   "execution_count": 6,
   "metadata": {},
   "outputs": [
    {
     "data": {
      "text/plain": [
       "<matplotlib.axes._subplots.AxesSubplot at 0x27f195f8198>"
      ]
     },
     "execution_count": 6,
     "metadata": {},
     "output_type": "execute_result"
    },
    {
     "data": {
      "image/png": "[encoded data removed]",
      "text/plain": [
       "<Figure size 432x288 with 1 Axes>"
      ]
     },
     "metadata": {
      "needs_background": "light"
     },
     "output_type": "display_data"
    }
   ],
   "source": [
    "sns.countplot(data['loan_status'])"
   ]
  },
  {
   "cell_type": "code",
   "execution_count": 7,
   "metadata": {},
   "outputs": [
    {
     "data": {
      "text/plain": [
       "array(['PAIDOFF', 'COLLECTION', 'COLLECTION_PAIDOFF'], dtype=object)"
      ]
     },
     "execution_count": 7,
     "metadata": {},
     "output_type": "execute_result"
    }
   ],
   "source": [
    "data['loan_status'].unique()"
   ]
  },
  {
   "cell_type": "code",
   "execution_count": 8,
   "metadata": {},
   "outputs": [
    {
     "data": {
      "text/plain": [
       "{'Loan_ID': 500,\n",
       " 'loan_status': 3,\n",
       " 'Principal': 6,\n",
       " 'terms': 3,\n",
       " 'effective_date': 7,\n",
       " 'due_date': 25,\n",
       " 'paid_off_time': 321,\n",
       " 'past_due_days': 34,\n",
       " 'age': 33,\n",
       " 'education': 4,\n",
       " 'Gender': 2}"
      ]
     },
     "execution_count": 8,
     "metadata": {},
     "output_type": "execute_result"
    }
   ],
   "source": [
    "# number of unique data in its respective column\n",
    "{column: len(data[column].unique()) for column in data.columns}"
   ]
  },
  {
   "cell_type": "code",
   "execution_count": 9,
   "metadata": {},
   "outputs": [],
   "source": [
    "# assigning code to category columns\n",
    "\n",
    "def bin_code(df,column,positive_value):\n",
    "    df = df.copy()\n",
    "    df[column] = df[column].apply(lambda x: 1 if x == positive_value else 0)\n",
    "    return df\n",
    "\n",
    "def order_code(df,column,order):\n",
    "    df = df.copy()\n",
    "    df[column] = df[column].apply(lambda x: order.index(x))\n",
    "    return df\n"
   ]
  },
  {
   "cell_type": "code",
   "execution_count": 10,
   "metadata": {},
   "outputs": [],
   "source": [
    "def loan_inputs(df):\n",
    "    df = df.copy()\n",
    "    \n",
    "    # getting rid of column we dont need\n",
    "    df = df.drop('Loan_ID',axis=1)\n",
    "    \n",
    "    # timestamps for each date column\n",
    "    for column in ['effective_date','due_date','paid_off_time']:\n",
    "        df[column] = pd.to_datetime(df[column])\n",
    "    \n",
    "    df['effective_year'] = df['effective_date'].apply(lambda x: x.year)\n",
    "    df['effective_month'] = df['effective_date'].apply(lambda x: x.month)\n",
    "    df['effective_day'] = df['effective_date'].apply(lambda x: x.day)\n",
    "    \n",
    "    df['due_year'] = df['due_date'].apply(lambda x: x.year)\n",
    "    df['due_month'] = df['due_date'].apply(lambda x: x.month)\n",
    "    df['due_day'] = df['due_date'].apply(lambda x: x.day)\n",
    "    \n",
    "    df['paid_off_year'] = df['paid_off_time'].apply(lambda x: x.year)\n",
    "    df['paid_off_month'] = df['paid_off_time'].apply(lambda x: x.month)\n",
    "    df['paid_off_day'] = df['paid_off_time'].apply(lambda x: x.day)\n",
    "    df['paid_off_hour'] = df['paid_off_time'].apply(lambda x: x.hour)\n",
    "    \n",
    "    df=df.drop(['effective_date','due_date','paid_off_time'],axis=1)\n",
    "    \n",
    "    # fill in the missing data for timestamps\n",
    "    for column in ['paid_off_year','paid_off_month','paid_off_day','paid_off_hour','past_due_days']:\n",
    "        df[column] = df[column].fillna(df[column].mean())\n",
    "    \n",
    "    # standardising the categorical data column - gender\n",
    "    df = bin_code(df,'Gender',positive_value='male')\n",
    "    \n",
    "    # standardising the categorical data column - education\n",
    "    education_order = ['High School or Below', 'college','Bechalor', 'Master or Above']\n",
    "    df = order_code(df,'education',order=education_order)\n",
    "    \n",
    "  \n",
    "    mapping = {\n",
    "                'COLLECTION': 0,\n",
    "                'PAIDOFF' : 1,\n",
    "                'COLLECTION_PAIDOFF': 2\n",
    "    }\n",
    "    df['loan_status'] = df['loan_status'].replace(mapping)\n",
    "    \n",
    "      # splitting X (independent) and y(dependent)\n",
    "    y = df['loan_status'].copy()\n",
    "    X = df.drop('loan_status', axis=1).copy()\n",
    "    \n",
    "    return X, y"
   ]
  },
  {
   "cell_type": "code",
   "execution_count": 11,
   "metadata": {},
   "outputs": [],
   "source": [
    "X, y = loan_inputs(data)"
   ]
  },
  {
   "cell_type": "code",
   "execution_count": 12,
   "metadata": {},
   "outputs": [
    {
     "data": {
      "text/html": [
       "<div>\n",
       "<style scoped>\n",
       "    .dataframe tbody tr th:only-of-type {\n",
       "        vertical-align: middle;\n",
       "    }\n",
       "\n",
       "    .dataframe tbody tr th {\n",
       "        vertical-align: top;\n",
       "    }\n",
       "\n",
       "    .dataframe thead th {\n",
       "        text-align: right;\n",
       "    }\n",
       "</style>\n",
       "<table border=\"1\" class=\"dataframe\">\n",
       "  <thead>\n",
       "    <tr style=\"text-align: right;\">\n",
       "      <th></th>\n",
       "      <th>Principal</th>\n",
       "      <th>terms</th>\n",
       "      <th>past_due_days</th>\n",
       "      <th>age</th>\n",
       "      <th>education</th>\n",
       "      <th>Gender</th>\n",
       "      <th>effective_year</th>\n",
       "      <th>effective_month</th>\n",
       "      <th>effective_day</th>\n",
       "      <th>due_year</th>\n",
       "      <th>due_month</th>\n",
       "      <th>due_day</th>\n",
       "      <th>paid_off_year</th>\n",
       "      <th>paid_off_month</th>\n",
       "      <th>paid_off_day</th>\n",
       "      <th>paid_off_hour</th>\n",
       "    </tr>\n",
       "  </thead>\n",
       "  <tbody>\n",
       "    <tr>\n",
       "      <th>0</th>\n",
       "      <td>1000</td>\n",
       "      <td>30</td>\n",
       "      <td>36.01</td>\n",
       "      <td>45</td>\n",
       "      <td>0</td>\n",
       "      <td>1</td>\n",
       "      <td>2016</td>\n",
       "      <td>9</td>\n",
       "      <td>8</td>\n",
       "      <td>2016</td>\n",
       "      <td>10</td>\n",
       "      <td>7</td>\n",
       "      <td>2016.0</td>\n",
       "      <td>9.0</td>\n",
       "      <td>14.0</td>\n",
       "      <td>19.0</td>\n",
       "    </tr>\n",
       "    <tr>\n",
       "      <th>1</th>\n",
       "      <td>1000</td>\n",
       "      <td>30</td>\n",
       "      <td>36.01</td>\n",
       "      <td>50</td>\n",
       "      <td>2</td>\n",
       "      <td>0</td>\n",
       "      <td>2016</td>\n",
       "      <td>9</td>\n",
       "      <td>8</td>\n",
       "      <td>2016</td>\n",
       "      <td>10</td>\n",
       "      <td>7</td>\n",
       "      <td>2016.0</td>\n",
       "      <td>10.0</td>\n",
       "      <td>7.0</td>\n",
       "      <td>9.0</td>\n",
       "    </tr>\n",
       "    <tr>\n",
       "      <th>2</th>\n",
       "      <td>1000</td>\n",
       "      <td>30</td>\n",
       "      <td>36.01</td>\n",
       "      <td>33</td>\n",
       "      <td>2</td>\n",
       "      <td>0</td>\n",
       "      <td>2016</td>\n",
       "      <td>9</td>\n",
       "      <td>8</td>\n",
       "      <td>2016</td>\n",
       "      <td>10</td>\n",
       "      <td>7</td>\n",
       "      <td>2016.0</td>\n",
       "      <td>9.0</td>\n",
       "      <td>25.0</td>\n",
       "      <td>16.0</td>\n",
       "    </tr>\n",
       "    <tr>\n",
       "      <th>3</th>\n",
       "      <td>1000</td>\n",
       "      <td>15</td>\n",
       "      <td>36.01</td>\n",
       "      <td>27</td>\n",
       "      <td>1</td>\n",
       "      <td>1</td>\n",
       "      <td>2016</td>\n",
       "      <td>9</td>\n",
       "      <td>8</td>\n",
       "      <td>2016</td>\n",
       "      <td>9</td>\n",
       "      <td>22</td>\n",
       "      <td>2016.0</td>\n",
       "      <td>9.0</td>\n",
       "      <td>22.0</td>\n",
       "      <td>20.0</td>\n",
       "    </tr>\n",
       "    <tr>\n",
       "      <th>4</th>\n",
       "      <td>1000</td>\n",
       "      <td>30</td>\n",
       "      <td>36.01</td>\n",
       "      <td>28</td>\n",
       "      <td>1</td>\n",
       "      <td>0</td>\n",
       "      <td>2016</td>\n",
       "      <td>9</td>\n",
       "      <td>9</td>\n",
       "      <td>2016</td>\n",
       "      <td>10</td>\n",
       "      <td>8</td>\n",
       "      <td>2016.0</td>\n",
       "      <td>9.0</td>\n",
       "      <td>23.0</td>\n",
       "      <td>21.0</td>\n",
       "    </tr>\n",
       "  </tbody>\n",
       "</table>\n",
       "</div>"
      ],
      "text/plain": [
       "   Principal  terms  past_due_days  age  education  Gender  effective_year  \\\n",
       "0       1000     30          36.01   45          0       1            2016   \n",
       "1       1000     30          36.01   50          2       0            2016   \n",
       "2       1000     30          36.01   33          2       0            2016   \n",
       "3       1000     15          36.01   27          1       1            2016   \n",
       "4       1000     30          36.01   28          1       0            2016   \n",
       "\n",
       "   effective_month  effective_day  due_year  due_month  due_day  \\\n",
       "0                9              8      2016         10        7   \n",
       "1                9              8      2016         10        7   \n",
       "2                9              8      2016         10        7   \n",
       "3                9              8      2016          9       22   \n",
       "4                9              9      2016         10        8   \n",
       "\n",
       "   paid_off_year  paid_off_month  paid_off_day  paid_off_hour  \n",
       "0         2016.0             9.0          14.0           19.0  \n",
       "1         2016.0            10.0           7.0            9.0  \n",
       "2         2016.0             9.0          25.0           16.0  \n",
       "3         2016.0             9.0          22.0           20.0  \n",
       "4         2016.0             9.0          23.0           21.0  "
      ]
     },
     "execution_count": 12,
     "metadata": {},
     "output_type": "execute_result"
    }
   ],
   "source": [
    "X.head()"
   ]
  },
  {
   "cell_type": "code",
   "execution_count": 13,
   "metadata": {},
   "outputs": [
    {
     "data": {
      "text/plain": [
       "array([1, 0, 2], dtype=int64)"
      ]
     },
     "execution_count": 13,
     "metadata": {},
     "output_type": "execute_result"
    }
   ],
   "source": [
    "y.unique()"
   ]
  },
  {
   "cell_type": "markdown",
   "metadata": {},
   "source": [
    "\n",
    "\n",
    "After converting our required data to numeric values, we will have to standardize the data to be able to compare and make meaningful interpretations. like an apple to apple comparision.\n",
    "\n",
    "So we use the Scaler funtion."
   ]
  },
  {
   "cell_type": "code",
   "execution_count": 14,
   "metadata": {},
   "outputs": [],
   "source": [
    "from sklearn.preprocessing import StandardScaler"
   ]
  },
  {
   "cell_type": "code",
   "execution_count": 15,
   "metadata": {},
   "outputs": [],
   "source": [
    "scaler = StandardScaler()\n",
    "X = pd.DataFrame(scaler.fit_transform(X), columns=X.columns)"
   ]
  },
  {
   "cell_type": "code",
   "execution_count": 16,
   "metadata": {},
   "outputs": [
    {
     "data": {
      "text/plain": [
       "{'Principal': 6,\n",
       " 'terms': 3,\n",
       " 'past_due_days': 34,\n",
       " 'age': 33,\n",
       " 'education': 4,\n",
       " 'Gender': 2,\n",
       " 'effective_year': 1,\n",
       " 'effective_month': 1,\n",
       " 'effective_day': 7,\n",
       " 'due_year': 1,\n",
       " 'due_month': 3,\n",
       " 'due_day': 19,\n",
       " 'paid_off_year': 1,\n",
       " 'paid_off_month': 5,\n",
       " 'paid_off_day': 32,\n",
       " 'paid_off_hour': 24}"
      ]
     },
     "execution_count": 16,
     "metadata": {},
     "output_type": "execute_result"
    }
   ],
   "source": [
    "# check the unique number of value in our dataset X, all the columns with 1 as the value hold no importance in our dataset, \n",
    "#so we drop them\n",
    "\n",
    "{column: len(X[column].unique()) for column in X.columns}"
   ]
  },
  {
   "cell_type": "code",
   "execution_count": 17,
   "metadata": {},
   "outputs": [],
   "source": [
    "X.drop(['effective_year','effective_month','due_year','paid_off_year'],axis=1,inplace=True)"
   ]
  },
  {
   "cell_type": "code",
   "execution_count": 18,
   "metadata": {},
   "outputs": [
    {
     "data": {
      "text/html": [
       "<div>\n",
       "<style scoped>\n",
       "    .dataframe tbody tr th:only-of-type {\n",
       "        vertical-align: middle;\n",
       "    }\n",
       "\n",
       "    .dataframe tbody tr th {\n",
       "        vertical-align: top;\n",
       "    }\n",
       "\n",
       "    .dataframe thead th {\n",
       "        text-align: right;\n",
       "    }\n",
       "</style>\n",
       "<table border=\"1\" class=\"dataframe\">\n",
       "  <thead>\n",
       "    <tr style=\"text-align: right;\">\n",
       "      <th></th>\n",
       "      <th>Principal</th>\n",
       "      <th>terms</th>\n",
       "      <th>past_due_days</th>\n",
       "      <th>age</th>\n",
       "      <th>education</th>\n",
       "      <th>Gender</th>\n",
       "      <th>effective_day</th>\n",
       "      <th>due_month</th>\n",
       "      <th>due_day</th>\n",
       "      <th>paid_off_month</th>\n",
       "      <th>paid_off_day</th>\n",
       "      <th>paid_off_hour</th>\n",
       "    </tr>\n",
       "  </thead>\n",
       "  <tbody>\n",
       "    <tr>\n",
       "      <th>495</th>\n",
       "      <td>0.493377</td>\n",
       "      <td>0.897891</td>\n",
       "      <td>-1.780899</td>\n",
       "      <td>-0.512610</td>\n",
       "      <td>-1.022825</td>\n",
       "      <td>0.426653</td>\n",
       "      <td>0.540875</td>\n",
       "      <td>0.664986</td>\n",
       "      <td>-0.762531</td>\n",
       "      <td>0.690066</td>\n",
       "      <td>-0.463997</td>\n",
       "      <td>1.339835</td>\n",
       "    </tr>\n",
       "    <tr>\n",
       "      <th>496</th>\n",
       "      <td>0.493377</td>\n",
       "      <td>-0.978972</td>\n",
       "      <td>-1.187446</td>\n",
       "      <td>-0.841628</td>\n",
       "      <td>-1.022825</td>\n",
       "      <td>0.426653</td>\n",
       "      <td>0.540875</td>\n",
       "      <td>-1.094236</td>\n",
       "      <td>1.264758</td>\n",
       "      <td>0.690066</td>\n",
       "      <td>-1.042187</td>\n",
       "      <td>1.581030</td>\n",
       "    </tr>\n",
       "    <tr>\n",
       "      <th>497</th>\n",
       "      <td>-1.243866</td>\n",
       "      <td>-0.978972</td>\n",
       "      <td>-1.780899</td>\n",
       "      <td>-0.183592</td>\n",
       "      <td>0.374477</td>\n",
       "      <td>0.426653</td>\n",
       "      <td>0.540875</td>\n",
       "      <td>-1.094236</td>\n",
       "      <td>1.264758</td>\n",
       "      <td>-1.035098</td>\n",
       "      <td>1.704214</td>\n",
       "      <td>-0.589721</td>\n",
       "    </tr>\n",
       "    <tr>\n",
       "      <th>498</th>\n",
       "      <td>0.493377</td>\n",
       "      <td>0.897891</td>\n",
       "      <td>-1.888799</td>\n",
       "      <td>1.132480</td>\n",
       "      <td>0.374477</td>\n",
       "      <td>-2.343823</td>\n",
       "      <td>0.540875</td>\n",
       "      <td>2.424209</td>\n",
       "      <td>-0.897684</td>\n",
       "      <td>2.415229</td>\n",
       "      <td>-0.897640</td>\n",
       "      <td>2.063419</td>\n",
       "    </tr>\n",
       "    <tr>\n",
       "      <th>499</th>\n",
       "      <td>0.493377</td>\n",
       "      <td>0.897891</td>\n",
       "      <td>-1.511147</td>\n",
       "      <td>-0.512610</td>\n",
       "      <td>-1.022825</td>\n",
       "      <td>0.426653</td>\n",
       "      <td>0.540875</td>\n",
       "      <td>0.664986</td>\n",
       "      <td>-0.762531</td>\n",
       "      <td>0.690066</td>\n",
       "      <td>0.258740</td>\n",
       "      <td>-0.589721</td>\n",
       "    </tr>\n",
       "  </tbody>\n",
       "</table>\n",
       "</div>"
      ],
      "text/plain": [
       "     Principal     terms  past_due_days       age  education    Gender  \\\n",
       "495   0.493377  0.897891      -1.780899 -0.512610  -1.022825  0.426653   \n",
       "496   0.493377 -0.978972      -1.187446 -0.841628  -1.022825  0.426653   \n",
       "497  -1.243866 -0.978972      -1.780899 -0.183592   0.374477  0.426653   \n",
       "498   0.493377  0.897891      -1.888799  1.132480   0.374477 -2.343823   \n",
       "499   0.493377  0.897891      -1.511147 -0.512610  -1.022825  0.426653   \n",
       "\n",
       "     effective_day  due_month   due_day  paid_off_month  paid_off_day  \\\n",
       "495       0.540875   0.664986 -0.762531        0.690066     -0.463997   \n",
       "496       0.540875  -1.094236  1.264758        0.690066     -1.042187   \n",
       "497       0.540875  -1.094236  1.264758       -1.035098      1.704214   \n",
       "498       0.540875   2.424209 -0.897684        2.415229     -0.897640   \n",
       "499       0.540875   0.664986 -0.762531        0.690066      0.258740   \n",
       "\n",
       "     paid_off_hour  \n",
       "495       1.339835  \n",
       "496       1.581030  \n",
       "497      -0.589721  \n",
       "498       2.063419  \n",
       "499      -0.589721  "
      ]
     },
     "execution_count": 18,
     "metadata": {},
     "output_type": "execute_result"
    }
   ],
   "source": [
    "X.tail()"
   ]
  },
  {
   "cell_type": "markdown",
   "metadata": {},
   "source": [
    "#### Train Test split\n",
    "\n",
    "In this section we are splitting our data in training and testing by assigning a text size of 0.4 and a random state of 101"
   ]
  },
  {
   "cell_type": "code",
   "execution_count": 19,
   "metadata": {},
   "outputs": [],
   "source": [
    "from sklearn.model_selection import train_test_split"
   ]
  },
  {
   "cell_type": "code",
   "execution_count": 20,
   "metadata": {},
   "outputs": [],
   "source": [
    "X_train, X_test, y_train, y_test = train_test_split(X, y,test_size=0.4,random_state=101)"
   ]
  },
  {
   "cell_type": "markdown",
   "metadata": {},
   "source": [
    "#### Training the model\n",
    "\n",
    "We are applying 3 kinds of algorithms to predict the efficiency of our training on our testing data. The 3 methods being Logistic Regression, Decision Tree and Random Forest.\n"
   ]
  },
  {
   "cell_type": "code",
   "execution_count": 21,
   "metadata": {},
   "outputs": [],
   "source": [
    "# the models we will use in our case are : Logistic regression, Decion Tree and RandomForest\n",
    "\n",
    "from sklearn.linear_model import LogisticRegression\n",
    "from sklearn.tree import DecisionTreeClassifier\n",
    "from sklearn.ensemble import RandomForestClassifier"
   ]
  },
  {
   "cell_type": "code",
   "execution_count": 22,
   "metadata": {},
   "outputs": [
    {
     "name": "stderr",
     "output_type": "stream",
     "text": [
      "C:\\ProgramData\\Anaconda3\\lib\\site-packages\\sklearn\\linear_model\\logistic.py:432: FutureWarning: Default solver will be changed to 'lbfgs' in 0.22. Specify a solver to silence this warning.\n",
      "  FutureWarning)\n",
      "C:\\ProgramData\\Anaconda3\\lib\\site-packages\\sklearn\\linear_model\\logistic.py:469: FutureWarning: Default multi_class will be changed to 'auto' in 0.22. Specify the multi_class option to silence this warning.\n",
      "  \"this warning.\", FutureWarning)\n",
      "C:\\ProgramData\\Anaconda3\\lib\\site-packages\\sklearn\\ensemble\\forest.py:245: FutureWarning: The default value of n_estimators will change from 10 in version 0.20 to 100 in 0.22.\n",
      "  \"10 in version 0.20 to 100 in 0.22.\", FutureWarning)\n"
     ]
    },
    {
     "data": {
      "text/plain": [
       "RandomForestClassifier(bootstrap=True, class_weight=None, criterion='gini',\n",
       "                       max_depth=None, max_features='auto', max_leaf_nodes=None,\n",
       "                       min_impurity_decrease=0.0, min_impurity_split=None,\n",
       "                       min_samples_leaf=1, min_samples_split=2,\n",
       "                       min_weight_fraction_leaf=0.0, n_estimators=10,\n",
       "                       n_jobs=None, oob_score=False, random_state=None,\n",
       "                       verbose=0, warm_start=False)"
      ]
     },
     "execution_count": 22,
     "metadata": {},
     "output_type": "execute_result"
    }
   ],
   "source": [
    "\n",
    "log_reg=LogisticRegression()\n",
    "log_reg.fit(X_train,y_train)\n",
    "\n",
    "dt = DecisionTreeClassifier()\n",
    "dt.fit(X_train,y_train)\n",
    "\n",
    "rf=RandomForestClassifier()\n",
    "rf.fit(X_train,y_train)"
   ]
  },
  {
   "cell_type": "markdown",
   "metadata": {},
   "source": [
    "#### Predictions & Evaluations\n",
    "\n",
    "Here is the part where we check how well our models did. "
   ]
  },
  {
   "cell_type": "code",
   "execution_count": 23,
   "metadata": {},
   "outputs": [
    {
     "name": "stdout",
     "output_type": "stream",
     "text": [
      "Logistic Regression: 97.50%\n",
      "Decision Tree: 99.50%\n",
      "Random Forest: 99.50%\n"
     ]
    }
   ],
   "source": [
    "print('Logistic Regression' + ': {:.2f}%'.format(log_reg.score(X_test, y_test) * 100))\n",
    "print('Decision Tree' + ': {:.2f}%'.format(dt.score(X_test, y_test) * 100))\n",
    "print('Random Forest' + ': {:.2f}%'.format(rf.score(X_test, y_test) * 100))"
   ]
  },
  {
   "cell_type": "code",
   "execution_count": 24,
   "metadata": {},
   "outputs": [],
   "source": [
    "from sklearn.metrics import confusion_matrix,classification_report"
   ]
  },
  {
   "cell_type": "code",
   "execution_count": 25,
   "metadata": {},
   "outputs": [],
   "source": [
    "pred_log_reg = log_reg.predict(X_test)\n",
    "pred_dt = dt.predict(X_test)\n",
    "pred_rf = rf.predict(X_test)"
   ]
  },
  {
   "cell_type": "code",
   "execution_count": 26,
   "metadata": {},
   "outputs": [
    {
     "name": "stdout",
     "output_type": "stream",
     "text": [
      "[[ 31   3   0]\n",
      " [  1 129   0]\n",
      " [  0   1  35]]\n",
      "\n",
      "\n",
      "              precision    recall  f1-score   support\n",
      "\n",
      "           0       0.97      0.91      0.94        34\n",
      "           1       0.97      0.99      0.98       130\n",
      "           2       1.00      0.97      0.99        36\n",
      "\n",
      "    accuracy                           0.97       200\n",
      "   macro avg       0.98      0.96      0.97       200\n",
      "weighted avg       0.98      0.97      0.97       200\n",
      "\n"
     ]
    }
   ],
   "source": [
    "print(confusion_matrix(y_test,pred_log_reg))\n",
    "print('\\n')\n",
    "print(classification_report(y_test,pred_log_reg))"
   ]
  },
  {
   "cell_type": "code",
   "execution_count": 27,
   "metadata": {},
   "outputs": [
    {
     "name": "stdout",
     "output_type": "stream",
     "text": [
      "[[ 33   0   1]\n",
      " [  0 130   0]\n",
      " [  0   0  36]]\n",
      "\n",
      "\n",
      "              precision    recall  f1-score   support\n",
      "\n",
      "           0       1.00      0.97      0.99        34\n",
      "           1       1.00      1.00      1.00       130\n",
      "           2       0.97      1.00      0.99        36\n",
      "\n",
      "    accuracy                           0.99       200\n",
      "   macro avg       0.99      0.99      0.99       200\n",
      "weighted avg       1.00      0.99      0.99       200\n",
      "\n"
     ]
    }
   ],
   "source": [
    "print(confusion_matrix(y_test,pred_dt))\n",
    "print('\\n')\n",
    "print(classification_report(y_test,pred_dt))"
   ]
  },
  {
   "cell_type": "code",
   "execution_count": 28,
   "metadata": {},
   "outputs": [
    {
     "name": "stdout",
     "output_type": "stream",
     "text": [
      "[[ 34   0   0]\n",
      " [  0 130   0]\n",
      " [  0   1  35]]\n",
      "\n",
      "\n",
      "              precision    recall  f1-score   support\n",
      "\n",
      "           0       1.00      1.00      1.00        34\n",
      "           1       0.99      1.00      1.00       130\n",
      "           2       1.00      0.97      0.99        36\n",
      "\n",
      "    accuracy                           0.99       200\n",
      "   macro avg       1.00      0.99      0.99       200\n",
      "weighted avg       1.00      0.99      0.99       200\n",
      "\n"
     ]
    }
   ],
   "source": [
    "print(confusion_matrix(y_test,pred_rf))\n",
    "print('\\n')\n",
    "print(classification_report(y_test,pred_rf))"
   ]
  },
  {
   "cell_type": "markdown",
   "metadata": {},
   "source": [
    "#### Findings:\n",
    "\n",
    "\n",
    "Our predictions using Decision Tree and Random Forest are more accurate compared to that of Logistic regression.\n",
    "With the help of the 2 algorithms we can say that the customers who are yet to repay the loan will be able to pay. \n",
    "\n",
    "We have based our loan status(i.e. the different kinds of customers who have paid, paid after collections and not yet paid) on the parameters like - the sum of money they have borrowed, the term of the loan, age of the customer, their education background, if they have on previous ocassions past a due date etc. \n",
    "\n",
    "After putting these parameters into our model we derived at the results, where the f1 scores and accuracy was higher when we used decision tree and random forest as the algorithms.\n",
    "\n",
    "However, it would be more meaningful to use a larger set of data to prove if customers will repay or not, because this dataset was limited to the borrowing behaviour of 500 customers."
   ]
  }
 ],
 "metadata": {
  "kernelspec": {
   "display_name": "Python 3",
   "language": "python",
   "name": "python3"
  },
  "language_info": {
   "codemirror_mode": {
    "name": "ipython",
    "version": 3
   },
   "file_extension": ".py",
   "mimetype": "text/x-python",
   "name": "python",
   "nbconvert_exporter": "python",
   "pygments_lexer": "ipython3",
   "version": "3.7.3"
  }
 },
 "nbformat": 4,
 "nbformat_minor": 2
}
